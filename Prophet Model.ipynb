{
 "cells": [
  {
   "cell_type": "code",
   "execution_count": null,
   "metadata": {},
   "outputs": [],
   "source": [
    "import pandas as pd\n",
    "import numpy as np\n",
    "%matplotlib inline\n",
    "import matplotlib.pyplot as plt\n",
    "from fbprophet import Prophet\n",
    "\n",
    "#Getting Data\n",
    "import quandl as qdl\n",
    "import requests\n",
    "import json\n",
    "from pandas.io.json import json_normalize \n",
    "import seaborn as sns"
   ]
  },
  {
   "cell_type": "code",
   "execution_count": null,
   "metadata": {},
   "outputs": [],
   "source": [
    "ETH_2h_url = 'https://min-api.cryptocompare.com/data/histohour?fsym=BTC&tsym=USD&limit=2000&aggregate=2&e=CCCAGG'\n",
    "ETH_2h_response = requests.get(ETH_2h_url)\n",
    "if (ETH_2h_response.status_code == 200):\n",
    "    ETH_2h = (ETH_2h_response.json())\n",
    "    \n",
    "ETH_2h = json_normalize(ETH_2h['Data'])\n",
    "ETH_2h['time'] = pd.to_datetime(ETH_2h['time'], unit='s')\n",
    "ETH_2h_noIdenx = ETH_2h.set_index('time')\n"
   ]
  },
  {
   "cell_type": "code",
   "execution_count": null,
   "metadata": {},
   "outputs": [],
   "source": [
    "ETH_2h.tail()"
   ]
  },
  {
   "cell_type": "markdown",
   "metadata": {},
   "source": [
    "Get start and end date of returned Crypto Data"
   ]
  },
  {
   "cell_type": "code",
   "execution_count": null,
   "metadata": {},
   "outputs": [],
   "source": [
    "last = len(ETH_2h) - 1\n",
    "firstDate = ETH_2h['time'].iloc[0]\n",
    "lastDate =  ETH_2h['time'].iloc[last]\n",
    "lastDate"
   ]
  },
  {
   "cell_type": "code",
   "execution_count": null,
   "metadata": {},
   "outputs": [],
   "source": [
    "prohpetStructure = ETH_2h[['close', 'time']]\n",
    "prohpetStructure = prohpetStructure.rename(columns={'close': 'y', 'time': 'ds'})\n",
    "prohpetStructure['y'] = np.log(prohpetStructure['y'])"
   ]
  },
  {
   "cell_type": "code",
   "execution_count": null,
   "metadata": {},
   "outputs": [],
   "source": [
    "m = Prophet(changepoint_prior_scale=0.005, yearly_seasonality=True)\n",
    "m.fit(prohpetStructure)\n",
    "future = m.make_future_dataframe(periods=10, freq='2h')\n",
    "forecast = m.predict(future)\n",
    "#This is causing issues for soe reason. Or maybe its right. It is plotting the lines at different levels\n",
    "forecast = forecast[['ds', 'yhat', 'yhat_lower', 'yhat_upper']]\n",
    "m.plot(forecast)\n",
    "for changepoint in m.changepoints:\n",
    "    plt.axvline(changepoint,ls='--', lw=1)"
   ]
  },
  {
   "cell_type": "code",
   "execution_count": null,
   "metadata": {},
   "outputs": [],
   "source": []
  },
  {
   "cell_type": "code",
   "execution_count": null,
   "metadata": {},
   "outputs": [],
   "source": [
    "deltas = m.params['delta'].mean(0)\n",
    "fig = plt.figure(facecolor='w')\n",
    "ax = fig.add_subplot(111)\n",
    "ax.bar(range(len(deltas)), deltas)\n",
    "ax.grid(True, which='major', c='gray', ls='-', lw=1, alpha=0.2)\n",
    "ax.set_ylabel('Rate change')\n",
    "ax.set_xlabel('Potential changepoint')\n",
    "fig"
   ]
  },
  {
   "cell_type": "code",
   "execution_count": null,
   "metadata": {},
   "outputs": [],
   "source": [
    "import tweepy as twpy\n",
    "from textblob import TextBlob"
   ]
  },
  {
   "cell_type": "code",
   "execution_count": null,
   "metadata": {},
   "outputs": [],
   "source": [
    "consumer_key = 'fba8sGRIIg0EoQOtfgxHGv7EI'\n",
    "consumer_secret = 'z8LKzW9epwOPWsYfE1QXIApFlo1VrbM6rGP9K7zdr9tXa3TocS'\n",
    "access_token = '893107128092606465-r9EFEkdoAoQyuHEOSMrQMdvUG7rAOBO'\n",
    "access_token_sedret = 'ZeGap5yg7GF7WdJ31wG2vb3NxVALCH5PUJj6hsCPPOv5e'\n",
    "auth = twpy.OAuthHandler(consumer_key, consumer_secret)\n",
    "auth.set_access_token(access_token, access_token_sedret)\n",
    "api = twpy.API(auth)"
   ]
  },
  {
   "cell_type": "markdown",
   "metadata": {},
   "source": [
    "I searched for most reputable Crypto news sources and have grabbed there tweets going back as far as possible. I plan to aggregate them by date time test for sentiment and average result across all source on a two hour basis. "
   ]
  },
  {
   "cell_type": "code",
   "execution_count": null,
   "metadata": {},
   "outputs": [],
   "source": [
    "users = ['BTCTN', 'kyletorpey', 'hodlhodl', 'bravenewcoin', 'coindesk', 'Cointelegraph']\n",
    "dates = []\n",
    "tweets = []\n",
    "idString = []\n",
    "userName = []\n",
    "for i in range(len(users)):\n",
    "    user = users[i]\n",
    "    for status in twpy.Cursor(api.user_timeline, screen_name=user ).items(2900):\n",
    "        dates.append(status.created_at)\n",
    "        tweets.append(status.text)\n",
    "        userName.append(status.user.name)"
   ]
  },
  {
   "cell_type": "code",
   "execution_count": null,
   "metadata": {},
   "outputs": [],
   "source": [
    "combinedTweets = pd.DataFrame({\n",
    "    'dates': dates,\n",
    "    'tweets': tweets,\n",
    "    'user': userName\n",
    "})    \n",
    "combinedTweets = combinedTweets.sort_values('dates')\n",
    "combinedTweets.tail()"
   ]
  },
  {
   "cell_type": "markdown",
   "metadata": {},
   "source": [
    "Perform Sentiment Analysis using TextBlob"
   ]
  },
  {
   "cell_type": "code",
   "execution_count": null,
   "metadata": {},
   "outputs": [],
   "source": [
    "combinedTweets['sentiment-polarity'] = combinedTweets['tweets'].apply(lambda tweet: TextBlob(tweet).sentiment.polarity)\n",
    "combinedTweets['sentiment-subjectivity'] = combinedTweets['tweets'].apply(lambda tweet: TextBlob(tweet).sentiment.subjectivity)\n"
   ]
  },
  {
   "cell_type": "code",
   "execution_count": null,
   "metadata": {},
   "outputs": [],
   "source": [
    "tweetTimeSentiment = combinedTweets[['dates', 'sentiment-polarity', 'sentiment-subjectivity']]\n",
    "tweetTimeSentiment['dates'] = pd.to_datetime(tweetTimeSentiment['dates'])\n",
    "tweetTimeSentiment = tweetTimeSentiment.resample(rule='120Min', on='dates').mean()\n",
    "tweetTimeSentiment = tweetTimeSentiment.fillna(0)\n",
    "mask = (tweetTimeSentiment.index > firstDate) & (tweetTimeSentiment.index <= lastDate)\n",
    "tweetTimeSentiment = tweetTimeSentiment.iloc[mask]\n",
    "tweetTimeSentiment.head()"
   ]
  },
  {
   "cell_type": "code",
   "execution_count": null,
   "metadata": {},
   "outputs": [],
   "source": [
    "tweetTimeSentiment.head()"
   ]
  },
  {
   "cell_type": "code",
   "execution_count": null,
   "metadata": {},
   "outputs": [],
   "source": [
    "last = len(ETH_2h) - 1\n",
    "firstDate = ETH_2h['time'].iloc[0]\n",
    "lastDate =  ETH_2h['time'].iloc[last]\n",
    "\n",
    "\n",
    "\n",
    "tweetTimeSentiment = combinedTweets[['dates', 'sentiment-polarity', 'sentiment-subjectivity']]\n",
    "tweetTimeSentiment['dates'] = pd.to_datetime(tweetTimeSentiment['dates'])\n",
    "tweetTimeSentiment = tweetTimeSentiment.resample(rule='120Min', on='dates').mean()\n",
    "tweetTimeSentiment = tweetTimeSentiment.fillna(0)\n",
    "mask = (tweetTimeSentiment.index > firstDate) & (tweetTimeSentiment.index <= lastDate)\n",
    "tweetTimeSentiment = tweetTimeSentiment.iloc[mask]\n",
    "tweetTimeSentiment.head()\n",
    "\n",
    "\n",
    "\n",
    "\n",
    "\n",
    "BTCHistPriceSentiment = pd.merge(ETH_2h_noIdenx, tweetTimeSentiment, how='inner', left_index=True, right_index=True)\n",
    "BTCHistPriceSentiment['sma5'] = BTCHistPriceSentiment['close'].rolling(5).mean()\n",
    "BTCHistPriceSentiment['sma10'] = BTCHistPriceSentiment['close'].rolling(10).mean()\n",
    "BTCHistPriceSentiment['sma15'] = BTCHistPriceSentiment['close'].rolling(15).mean()\n",
    "BTCHistPriceSentiment['sma25'] = BTCHistPriceSentiment['close'].rolling(25).mean()\n",
    "BTCHistPriceSentiment['sma50'] = BTCHistPriceSentiment['close'].rolling(50).mean()\n",
    "BTCHistPriceSentiment = BTCHistPriceSentiment.reset_index()\n",
    "\n",
    "BTCHistPriceSentiment.tail(5)"
   ]
  },
  {
   "cell_type": "code",
   "execution_count": null,
   "metadata": {},
   "outputs": [],
   "source": []
  },
  {
   "cell_type": "code",
   "execution_count": null,
   "metadata": {},
   "outputs": [],
   "source": [
    "prohpetStructure = ETH_2h[['close', 'time']]\n",
    "prohpetStructure = prohpetStructure.rename(columns={'close': 'y', 'time': 'ds'})\n",
    "prohpetStructure['y'] = np.log(prohpetStructure['y'])"
   ]
  },
  {
   "cell_type": "code",
   "execution_count": null,
   "metadata": {},
   "outputs": [],
   "source": [
    "m = Prophet(changepoint_prior_scale=0.01, yearly_seasonality=True)\n",
    "m.fit(prohpetStructure)\n",
    "future = m.make_future_dataframe(periods=20, freq='2h')\n",
    "forecast = m.predict(future)\n",
    "#This is causing issues for soe reason. Or maybe its right. It is plotting the lines at different levels\n",
    "forecast = forecast[['ds', 'yhat', 'yhat_lower', 'yhat_upper']]\n",
    "m.plot(forecast)\n",
    "for changepoint in m.changepoints:\n",
    "    plt.axvline(changepoint,ls='--', lw=1)"
   ]
  },
  {
   "cell_type": "code",
   "execution_count": null,
   "metadata": {},
   "outputs": [],
   "source": [
    "forecast.tail()"
   ]
  },
  {
   "cell_type": "markdown",
   "metadata": {},
   "source": [
    "Combine Forecast with Sentiment, Price, and SMA DF"
   ]
  },
  {
   "cell_type": "code",
   "execution_count": null,
   "metadata": {},
   "outputs": [],
   "source": [
    "\n",
    "lastDateWPrediction =  forecast['ds'].iloc[last]\n",
    "mask = (tweetTimeSentiment.index > firstDate) & (tweetTimeSentiment.index <= lastDateWPrediction)\n",
    "\n",
    "\n",
    "forecast.iloc[mask]\n",
    "future = forecast.tail(20)"
   ]
  },
  {
   "cell_type": "markdown",
   "metadata": {},
   "source": [
    "Sentiment, Price, SMA, With Forecast\n"
   ]
  },
  {
   "cell_type": "code",
   "execution_count": null,
   "metadata": {},
   "outputs": [],
   "source": [
    "BTCSentimentForecast = pd.merge(forecast, BTCHistPriceSentiment, how='inner', left_index=True, right_index=True)\n",
    "BTCSentimentForecast = BTCSentimentForecast.append(future)\n",
    "BTCSentimentForecast.tail(5)"
   ]
  },
  {
   "cell_type": "code",
   "execution_count": null,
   "metadata": {},
   "outputs": [],
   "source": [
    "\n",
    "sentiment = tweetTimeSentiment[['sentiment-polarity', 'sentiment-subjectivity']]\n",
    "sentiment = sentiment.tail(20)\n",
    "\n",
    "sentiment.plot(figsize=[10,7])\n"
   ]
  },
  {
   "cell_type": "code",
   "execution_count": null,
   "metadata": {},
   "outputs": [],
   "source": [
    "BTCSentimentForecastTimeIndex = BTCSentimentForecast.set_index('ds')\n",
    "BTCSentimentForecastTimeIndex.tail()"
   ]
  },
  {
   "cell_type": "code",
   "execution_count": null,
   "metadata": {},
   "outputs": [],
   "source": [
    "BTCSentimentForecastTimeIndex = BTCSentimentForecastTimeIndex[['yhat']]\n",
    "BTCSentimentForecastTimeIndex = BTCSentimentForecastTimeIndex.tail(100)\n",
    "BTCSentimentForecastTimeIndex.plot(figsize=[10,7])"
   ]
  }
 ],
 "metadata": {
  "kernelspec": {
   "display_name": "Python 3",
   "language": "python",
   "name": "python3"
  },
  "language_info": {
   "codemirror_mode": {
    "name": "ipython",
    "version": 3
   },
   "file_extension": ".py",
   "mimetype": "text/x-python",
   "name": "python",
   "nbconvert_exporter": "python",
   "pygments_lexer": "ipython3",
   "version": "3.6.2"
  }
 },
 "nbformat": 4,
 "nbformat_minor": 2
}
