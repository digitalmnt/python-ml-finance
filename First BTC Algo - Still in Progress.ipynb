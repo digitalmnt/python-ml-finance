{
 "cells": [
  {
   "cell_type": "markdown",
   "metadata": {},
   "source": [
    "# Building out Linear Regression Algorithm Loosely Based around the following Psuedo Code\n"
   ]
  },
  {
   "cell_type": "markdown",
   "metadata": {},
   "source": [
    "* Read in lots of data from the markets - 6hr, 12hr, 24hr Ideally\n",
    "* Create two arrays, One Array has an (Low Price, Volume) and the second (High Price) - Maybe\n",
    "* Pass this into a Linear Regression Algorithm.\n",
    "* Returns the next High price prediction point.\n",
    "* Check this is at least 80% accurate\n",
    "* Check if this prediction is above or below current price on market.\n",
    "* Trade accordingly, Buy or Sell.\n",
    "* Check the price continuously until in profit. - Maybe\n",
    "* Trade either hits Limit Distance OR predefined limit. - ?\n",
    "* Close trade - Sell or Buy\n",
    "* Loop round again. - Need to figure out a time period for this. Maybe based around the data?"
   ]
  },
  {
   "cell_type": "code",
   "execution_count": 184,
   "metadata": {},
   "outputs": [],
   "source": [
    "import numpy as np\n",
    "import pandas as pd\n",
    "import quandl as qdl\n",
    "import matplotlib\n",
    "import matplotlib.pyplot as plt\n",
    "import tensorflow as tf\n",
    "#Getting Data\n",
    "import requests\n",
    "import json\n",
    "from pandas.io.json import json_normalize \n",
    "import seaborn as sns"
   ]
  },
  {
   "cell_type": "code",
   "execution_count": 72,
   "metadata": {},
   "outputs": [
    {
     "data": {
      "text/html": [
       "<div>\n",
       "<style scoped>\n",
       "    .dataframe tbody tr th:only-of-type {\n",
       "        vertical-align: middle;\n",
       "    }\n",
       "\n",
       "    .dataframe tbody tr th {\n",
       "        vertical-align: top;\n",
       "    }\n",
       "\n",
       "    .dataframe thead th {\n",
       "        text-align: right;\n",
       "    }\n",
       "</style>\n",
       "<table border=\"1\" class=\"dataframe\">\n",
       "  <thead>\n",
       "    <tr style=\"text-align: right;\">\n",
       "      <th></th>\n",
       "      <th>close</th>\n",
       "      <th>high</th>\n",
       "      <th>low</th>\n",
       "      <th>open</th>\n",
       "      <th>time</th>\n",
       "      <th>volumefrom</th>\n",
       "      <th>volumeto</th>\n",
       "    </tr>\n",
       "  </thead>\n",
       "  <tbody>\n",
       "    <tr>\n",
       "      <th>0</th>\n",
       "      <td>1234.63</td>\n",
       "      <td>1287.06</td>\n",
       "      <td>1214.46</td>\n",
       "      <td>1226.59</td>\n",
       "      <td>2018-01-12 12:00:00</td>\n",
       "      <td>121209.65</td>\n",
       "      <td>1.526070e+08</td>\n",
       "    </tr>\n",
       "    <tr>\n",
       "      <th>1</th>\n",
       "      <td>1258.38</td>\n",
       "      <td>1264.10</td>\n",
       "      <td>1217.64</td>\n",
       "      <td>1234.67</td>\n",
       "      <td>2018-01-12 16:00:00</td>\n",
       "      <td>89496.31</td>\n",
       "      <td>1.107821e+08</td>\n",
       "    </tr>\n",
       "    <tr>\n",
       "      <th>2</th>\n",
       "      <td>1261.03</td>\n",
       "      <td>1269.20</td>\n",
       "      <td>1240.02</td>\n",
       "      <td>1258.41</td>\n",
       "      <td>2018-01-12 20:00:00</td>\n",
       "      <td>57925.46</td>\n",
       "      <td>7.269430e+07</td>\n",
       "    </tr>\n",
       "    <tr>\n",
       "      <th>3</th>\n",
       "      <td>1288.74</td>\n",
       "      <td>1292.94</td>\n",
       "      <td>1261.01</td>\n",
       "      <td>1261.06</td>\n",
       "      <td>2018-01-13 00:00:00</td>\n",
       "      <td>86542.93</td>\n",
       "      <td>1.106168e+08</td>\n",
       "    </tr>\n",
       "    <tr>\n",
       "      <th>4</th>\n",
       "      <td>1334.28</td>\n",
       "      <td>1336.84</td>\n",
       "      <td>1285.03</td>\n",
       "      <td>1288.74</td>\n",
       "      <td>2018-01-13 04:00:00</td>\n",
       "      <td>76364.13</td>\n",
       "      <td>9.960305e+07</td>\n",
       "    </tr>\n",
       "  </tbody>\n",
       "</table>\n",
       "</div>"
      ],
      "text/plain": [
       "     close     high      low     open                time  volumefrom  \\\n",
       "0  1234.63  1287.06  1214.46  1226.59 2018-01-12 12:00:00   121209.65   \n",
       "1  1258.38  1264.10  1217.64  1234.67 2018-01-12 16:00:00    89496.31   \n",
       "2  1261.03  1269.20  1240.02  1258.41 2018-01-12 20:00:00    57925.46   \n",
       "3  1288.74  1292.94  1261.01  1261.06 2018-01-13 00:00:00    86542.93   \n",
       "4  1334.28  1336.84  1285.03  1288.74 2018-01-13 04:00:00    76364.13   \n",
       "\n",
       "       volumeto  \n",
       "0  1.526070e+08  \n",
       "1  1.107821e+08  \n",
       "2  7.269430e+07  \n",
       "3  1.106168e+08  \n",
       "4  9.960305e+07  "
      ]
     },
     "execution_count": 72,
     "metadata": {},
     "output_type": "execute_result"
    }
   ],
   "source": [
    "ETH_4h_url = 'https://min-api.cryptocompare.com/data/histohour?fsym=ETH&tsym=USD&limit=120&aggregate=4&e=CCCAGG'\n",
    "ETH_4h_response = requests.get(ETH_4h_url)\n",
    "if (ETH_4h_response.status_code == 200):\n",
    "    ETH_4h = (ETH_4h_response.json())\n",
    "    \n",
    "ETH_4h = json_normalize(ETH_4h['Data'])\n",
    "ETH_4h['time'] = pd.to_datetime(ETH_4h['time'], unit='s')\n",
    "ETH_4h_noIdenx = ETH_4h.set_index('time')\n",
    "ETH_4h.head()"
   ]
  },
  {
   "cell_type": "code",
   "execution_count": 73,
   "metadata": {
    "scrolled": true
   },
   "outputs": [
    {
     "name": "stderr",
     "output_type": "stream",
     "text": [
      "/usr/local/lib/python3.6/site-packages/seaborn/timeseries.py:183: UserWarning: The tsplot function is deprecated and will be removed or replaced (in a substantially altered version) in a future release.\n",
      "  warnings.warn(msg, UserWarning)\n"
     ]
    },
    {
     "data": {
      "text/plain": [
       "<matplotlib.axes._subplots.AxesSubplot at 0x111db2518>"
      ]
     },
     "execution_count": 73,
     "metadata": {},
     "output_type": "execute_result"
    },
    {
     "data": {
      "image/png": "[encoded data removed]",
      "text/plain": [
       "<matplotlib.figure.Figure at 0x111da6be0>"
      ]
     },
     "metadata": {},
     "output_type": "display_data"
    }
   ],
   "source": [
    "ETH_4h.head()\n",
    "sns.tsplot([ETH_4h.high, ETH_4h.low], color=\"green\")"
   ]
  },
  {
   "cell_type": "code",
   "execution_count": null,
   "metadata": {},
   "outputs": [],
   "source": []
  },
  {
   "cell_type": "code",
   "execution_count": 111,
   "metadata": {},
   "outputs": [
    {
     "data": {
      "text/plain": [
       "2001"
      ]
     },
     "execution_count": 111,
     "metadata": {},
     "output_type": "execute_result"
    }
   ],
   "source": [
    "ETH_1h_url = 'https://min-api.cryptocompare.com/data/histohour?fsym=ETH&tsym=USD&limit=2160&aggregate=1&e=CCCAGG'\n",
    "ETH_1h_response = requests.get(ETH_1h_url)\n",
    "if (ETH_1h_response.status_code == 200):\n",
    "    ETH_1h = (ETH_1h_response.json())\n",
    "    \n",
    "ETH_1h = json_normalize(ETH_1h['Data'])\n",
    "ETH_1h['time'] = pd.to_datetime(ETH_1h['time'], unit='s')\n",
    "ETH_1h_noIdenx = ETH_1h.set_index('time')\n",
    "        "
   ]
  },
  {
   "cell_type": "code",
   "execution_count": 112,
   "metadata": {},
   "outputs": [
    {
     "data": {
      "text/plain": [
       "2001"
      ]
     },
     "execution_count": 112,
     "metadata": {},
     "output_type": "execute_result"
    }
   ],
   "source": [
    "len(ETH_1h)"
   ]
  },
  {
   "cell_type": "code",
   "execution_count": 108,
   "metadata": {},
   "outputs": [
    {
     "data": {
      "text/html": [
       "<div>\n",
       "<style scoped>\n",
       "    .dataframe tbody tr th:only-of-type {\n",
       "        vertical-align: middle;\n",
       "    }\n",
       "\n",
       "    .dataframe tbody tr th {\n",
       "        vertical-align: top;\n",
       "    }\n",
       "\n",
       "    .dataframe thead th {\n",
       "        text-align: right;\n",
       "    }\n",
       "</style>\n",
       "<table border=\"1\" class=\"dataframe\">\n",
       "  <thead>\n",
       "    <tr style=\"text-align: right;\">\n",
       "      <th></th>\n",
       "      <th>close</th>\n",
       "      <th>high</th>\n",
       "      <th>low</th>\n",
       "      <th>open</th>\n",
       "      <th>time</th>\n",
       "      <th>volumefrom</th>\n",
       "      <th>volumeto</th>\n",
       "    </tr>\n",
       "  </thead>\n",
       "  <tbody>\n",
       "    <tr>\n",
       "      <th>0</th>\n",
       "      <td>304.75</td>\n",
       "      <td>315.44</td>\n",
       "      <td>304.58</td>\n",
       "      <td>313.14</td>\n",
       "      <td>2017-11-10 12:00:00</td>\n",
       "      <td>62095.43</td>\n",
       "      <td>19239828.78</td>\n",
       "    </tr>\n",
       "    <tr>\n",
       "      <th>1</th>\n",
       "      <td>307.08</td>\n",
       "      <td>308.68</td>\n",
       "      <td>304.51</td>\n",
       "      <td>304.75</td>\n",
       "      <td>2017-11-10 13:00:00</td>\n",
       "      <td>43522.79</td>\n",
       "      <td>13325385.34</td>\n",
       "    </tr>\n",
       "    <tr>\n",
       "      <th>2</th>\n",
       "      <td>304.11</td>\n",
       "      <td>307.40</td>\n",
       "      <td>304.06</td>\n",
       "      <td>307.08</td>\n",
       "      <td>2017-11-10 14:00:00</td>\n",
       "      <td>32711.60</td>\n",
       "      <td>10004480.62</td>\n",
       "    </tr>\n",
       "    <tr>\n",
       "      <th>3</th>\n",
       "      <td>303.84</td>\n",
       "      <td>305.22</td>\n",
       "      <td>303.03</td>\n",
       "      <td>304.11</td>\n",
       "      <td>2017-11-10 15:00:00</td>\n",
       "      <td>35898.49</td>\n",
       "      <td>10905053.84</td>\n",
       "    </tr>\n",
       "    <tr>\n",
       "      <th>4</th>\n",
       "      <td>304.20</td>\n",
       "      <td>304.79</td>\n",
       "      <td>303.63</td>\n",
       "      <td>303.87</td>\n",
       "      <td>2017-11-10 16:00:00</td>\n",
       "      <td>30678.03</td>\n",
       "      <td>9333547.12</td>\n",
       "    </tr>\n",
       "  </tbody>\n",
       "</table>\n",
       "</div>"
      ],
      "text/plain": [
       "    close    high     low    open                time  volumefrom     volumeto\n",
       "0  304.75  315.44  304.58  313.14 2017-11-10 12:00:00    62095.43  19239828.78\n",
       "1  307.08  308.68  304.51  304.75 2017-11-10 13:00:00    43522.79  13325385.34\n",
       "2  304.11  307.40  304.06  307.08 2017-11-10 14:00:00    32711.60  10004480.62\n",
       "3  303.84  305.22  303.03  304.11 2017-11-10 15:00:00    35898.49  10905053.84\n",
       "4  304.20  304.79  303.63  303.87 2017-11-10 16:00:00    30678.03   9333547.12"
      ]
     },
     "execution_count": 108,
     "metadata": {},
     "output_type": "execute_result"
    }
   ],
   "source": [
    "ETH_1h.head()"
   ]
  },
  {
   "cell_type": "markdown",
   "metadata": {},
   "source": [
    "Messing around based on: https://medium.com/mlreview/a-simple-deep-learning-model-for-stock-price-prediction-using-tensorflow-30505541d877"
   ]
  },
  {
   "cell_type": "code",
   "execution_count": 149,
   "metadata": {},
   "outputs": [
    {
     "data": {
      "text/plain": [
       "0    304.20\n",
       "1    301.15\n",
       "2    291.76\n",
       "3    297.44\n",
       "4    293.98\n",
       "Name: close, dtype: float64"
      ]
     },
     "execution_count": 149,
     "metadata": {},
     "output_type": "execute_result"
    }
   ],
   "source": [
    "\n",
    "\n",
    "ETH_1h['close'].head()"
   ]
  },
  {
   "cell_type": "code",
   "execution_count": 164,
   "metadata": {},
   "outputs": [
    {
     "data": {
      "text/plain": [
       "numpy.ndarray"
      ]
     },
     "execution_count": 164,
     "metadata": {},
     "output_type": "execute_result"
    }
   ],
   "source": [
    "close = ETH_1h['close'].as_matrix()\n",
    "type(close)"
   ]
  },
  {
   "cell_type": "code",
   "execution_count": 165,
   "metadata": {},
   "outputs": [
    {
     "data": {
      "text/plain": [
       "2001"
      ]
     },
     "execution_count": 165,
     "metadata": {},
     "output_type": "execute_result"
    }
   ],
   "source": [
    "n = close.shape[0]\n",
    "n"
   ]
  },
  {
   "cell_type": "code",
   "execution_count": 166,
   "metadata": {},
   "outputs": [],
   "source": [
    "train_start = 0\n",
    "train_end = int(np.floor(0.8*n))\n",
    "test_start = train_end + 1\n",
    "test_end = n\n",
    "\n",
    "data_train = close[np.arange(train_start, train_end)]\n",
    "data_test = close[np.arange(test_start, test_end)]"
   ]
  },
  {
   "cell_type": "code",
   "execution_count": 167,
   "metadata": {},
   "outputs": [
    {
     "data": {
      "text/plain": [
       "array([1031.26, 1049.93, 1155.01, 1113.22, 1054.61, 1097.1 , 1144.66,\n",
       "       1113.51, 1030.47, 1045.18, 1061.35, 1003.25,  939.07, 1023.92,\n",
       "       1050.26,  997.46, 1028.47,  979.55,  981.69,  989.09,  987.73,\n",
       "       1007.83, 1001.01,  976.82,  930.72,  881.4 ,  880.56,  889.39,\n",
       "        850.42,  785.53,  790.06,  914.02,  885.42,  848.91,  926.15,\n",
       "        993.27, 1047.47,  999.19, 1024.69, 1018.74, 1047.71, 1067.29,\n",
       "       1013.84,  987.29,  987.05, 1005.06,  951.33,  974.96, 1001.99,\n",
       "       1009.27, 1032.17, 1042.84, 1056.88, 1081.11, 1091.18, 1067.  ,\n",
       "       1038.54, 1065.9 , 1074.15, 1079.08, 1049.47, 1016.26, 1012.97,\n",
       "       1043.26, 1038.68,  994.88, 1005.06, 1018.09, 1024.73, 1029.14,\n",
       "       1021.58, 1057.95, 1050.17, 1070.36, 1050.17, 1082.67, 1070.17,\n",
       "       1050.76, 1044.02, 1053.71, 1027.91, 1027.83, 1023.58, 1031.19,\n",
       "       1020.45, 1018.71, 1037.36, 1044.19, 1059.15, 1063.98, 1065.92,\n",
       "       1089.64, 1119.23, 1106.77, 1119.33, 1127.54, 1114.5 , 1121.15,\n",
       "       1101.99, 1117.62, 1120.54, 1128.08, 1129.43, 1155.47, 1148.11,\n",
       "       1161.17, 1145.16, 1152.08, 1158.59, 1155.21, 1150.5 , 1110.25,\n",
       "       1123.58, 1132.16, 1125.52, 1105.46, 1085.08, 1077.12, 1074.39,\n",
       "       1074.8 , 1057.33, 1068.76, 1106.85, 1088.05, 1105.96, 1080.81,\n",
       "       1054.58, 1036.92, 1043.78, 1041.91, 1051.54, 1011.26, 1030.97,\n",
       "       1015.51, 1049.09, 1067.92, 1041.91, 1051.95, 1049.46, 1059.81,\n",
       "       1049.32, 1059.72, 1071.45, 1073.76, 1076.05, 1077.52, 1042.87,\n",
       "       1033.12,  981.5 ,  987.34,  956.54,  967.67,  981.93,  966.55,\n",
       "        975.39,  957.39,  951.62,  986.6 ,  999.64,  995.81,  987.83,\n",
       "        994.88, 1003.19,  976.64,  958.59,  952.97,  950.09,  975.52,\n",
       "        959.09,  945.62,  932.27,  929.11,  939.84,  954.36,  988.58,\n",
       "       1017.46, 1006.42, 1001.23,  986.64, 1001.61,  995.16, 1002.75,\n",
       "        984.47,  959.86,  961.13,  976.11,  985.31,  970.23,  975.64,\n",
       "        993.94,  998.33,  996.03, 1003.78, 1000.68, 1007.37, 1027.19,\n",
       "       1027.86, 1042.46, 1014.7 , 1020.81, 1027.61, 1021.89, 1033.64,\n",
       "       1031.13, 1041.33, 1035.25, 1061.78, 1059.59, 1069.51, 1085.57,\n",
       "       1095.72, 1081.46, 1088.18, 1077.91, 1069.36, 1055.09, 1062.08,\n",
       "       1064.83, 1048.67, 1029.6 , 1052.44, 1045.45, 1027.36, 1028.27,\n",
       "       1042.01, 1063.89, 1063.64, 1066.21, 1060.28, 1056.98, 1046.37,\n",
       "       1066.71, 1057.34, 1068.49, 1070.75, 1066.82, 1061.24, 1069.06,\n",
       "       1040.76, 1023.16,  998.83, 1008.65, 1010.6 , 1026.43, 1017.46,\n",
       "       1034.32, 1051.2 , 1052.31, 1058.01, 1041.48, 1033.75, 1041.28,\n",
       "       1037.12, 1028.83, 1048.58, 1051.61, 1038.02, 1051.35, 1048.42,\n",
       "       1047.36, 1062.91, 1067.05, 1064.66, 1061.21, 1072.1 , 1072.45,\n",
       "       1056.18, 1058.1 , 1064.69, 1063.28, 1090.78, 1104.01, 1093.82,\n",
       "       1096.11, 1100.16, 1111.64, 1115.75, 1116.81, 1109.08, 1112.11,\n",
       "       1107.97, 1108.8 , 1117.5 , 1136.65, 1151.85, 1174.23, 1157.27,\n",
       "       1164.67, 1172.96, 1200.5 , 1232.13, 1197.68, 1216.86, 1207.69,\n",
       "       1195.75, 1203.57, 1209.99, 1214.5 , 1211.83, 1217.64, 1229.68,\n",
       "       1232.12, 1231.58, 1230.77, 1184.43, 1192.46, 1186.55, 1202.28,\n",
       "       1198.94, 1179.18, 1164.41, 1173.8 , 1173.43, 1182.11, 1164.95,\n",
       "       1165.43, 1176.98, 1180.43, 1185.  , 1179.59, 1178.28, 1175.73,\n",
       "       1167.21, 1163.89, 1170.85, 1154.15, 1169.96, 1170.61, 1132.94,\n",
       "       1138.87, 1128.62, 1143.79, 1154.28, 1149.04, 1165.52, 1171.82,\n",
       "       1162.61, 1160.35, 1161.26, 1154.72, 1125.63, 1133.84, 1112.14,\n",
       "       1114.66, 1097.26, 1055.53, 1093.01, 1063.14, 1067.25, 1082.7 ,\n",
       "       1063.75, 1036.59, 1040.33, 1078.18, 1067.17, 1060.51, 1063.38,\n",
       "       1081.29, 1098.56, 1086.01, 1085.86, 1095.42, 1106.07, 1119.66,\n",
       "       1097.76, 1089.86, 1096.01, 1101.3 , 1098.08, 1100.47, 1093.83,\n",
       "       1098.25, 1094.99, 1100.8 , 1111.31, 1116.92, 1116.82, 1142.98,\n",
       "       1129.96, 1138.31, 1152.12, 1142.1 , 1133.62, 1108.92, 1096.6 ,\n",
       "       1082.72, 1110.91, 1120.43, 1121.63, 1105.67, 1070.5 , 1030.52,\n",
       "       1049.05, 1038.32, 1001.8 , 1026.7 , 1020.58, 1006.37, 1026.19,\n",
       "       1009.05])"
      ]
     },
     "execution_count": 167,
     "metadata": {},
     "output_type": "execute_result"
    }
   ],
   "source": [
    "data_test"
   ]
  },
  {
   "cell_type": "code",
   "execution_count": 168,
   "metadata": {},
   "outputs": [
    {
     "data": {
      "text/plain": [
       "array([ 304.2 ,  301.15,  291.76, ..., 1234.15, 1227.06, 1152.73])"
      ]
     },
     "execution_count": 168,
     "metadata": {},
     "output_type": "execute_result"
    }
   ],
   "source": [
    "data_train"
   ]
  },
  {
   "cell_type": "code",
   "execution_count": null,
   "metadata": {},
   "outputs": [],
   "source": []
  },
  {
   "cell_type": "code",
   "execution_count": 157,
   "metadata": {},
   "outputs": [
    {
     "ename": "ValueError",
     "evalue": "operands could not be broadcast together with shapes (1,400) (1600,) (1,400) ",
     "output_type": "error",
     "traceback": [
      "\u001b[0;31m---------------------------------------------------------------------------\u001b[0m",
      "\u001b[0;31mValueError\u001b[0m                                Traceback (most recent call last)",
      "\u001b[0;32m<ipython-input-157-295bf674c5ee>\u001b[0m in \u001b[0;36m<module>\u001b[0;34m()\u001b[0m\n\u001b[1;32m      4\u001b[0m \u001b[0mscaler\u001b[0m\u001b[0;34m.\u001b[0m\u001b[0mfit\u001b[0m\u001b[0;34m(\u001b[0m\u001b[0;34m[\u001b[0m\u001b[0mdata_train\u001b[0m\u001b[0;34m]\u001b[0m\u001b[0;34m)\u001b[0m\u001b[0;34m\u001b[0m\u001b[0m\n\u001b[1;32m      5\u001b[0m \u001b[0mdata_train\u001b[0m \u001b[0;34m=\u001b[0m \u001b[0mscaler\u001b[0m\u001b[0;34m.\u001b[0m\u001b[0mtransform\u001b[0m\u001b[0;34m(\u001b[0m\u001b[0;34m[\u001b[0m\u001b[0mdata_train\u001b[0m\u001b[0;34m]\u001b[0m\u001b[0;34m)\u001b[0m\u001b[0;34m\u001b[0m\u001b[0m\n\u001b[0;32m----> 6\u001b[0;31m \u001b[0mdata_test\u001b[0m \u001b[0;34m=\u001b[0m \u001b[0mscaler\u001b[0m\u001b[0;34m.\u001b[0m\u001b[0mtransform\u001b[0m\u001b[0;34m(\u001b[0m\u001b[0;34m[\u001b[0m\u001b[0mdata_test\u001b[0m\u001b[0;34m]\u001b[0m\u001b[0;34m)\u001b[0m\u001b[0;34m\u001b[0m\u001b[0m\n\u001b[0m\u001b[1;32m      7\u001b[0m \u001b[0;31m# Build X and y\u001b[0m\u001b[0;34m\u001b[0m\u001b[0;34m\u001b[0m\u001b[0m\n\u001b[1;32m      8\u001b[0m \u001b[0mX_train\u001b[0m \u001b[0;34m=\u001b[0m \u001b[0mdata_train\u001b[0m\u001b[0;34m[\u001b[0m\u001b[0;34m:\u001b[0m\u001b[0;34m,\u001b[0m \u001b[0;36m1\u001b[0m\u001b[0;34m:\u001b[0m\u001b[0;34m]\u001b[0m\u001b[0;34m\u001b[0m\u001b[0m\n",
      "\u001b[0;32m/usr/local/lib/python3.6/site-packages/sklearn/preprocessing/data.py\u001b[0m in \u001b[0;36mtransform\u001b[0;34m(self, X)\u001b[0m\n\u001b[1;32m    367\u001b[0m         \u001b[0mX\u001b[0m \u001b[0;34m=\u001b[0m \u001b[0mcheck_array\u001b[0m\u001b[0;34m(\u001b[0m\u001b[0mX\u001b[0m\u001b[0;34m,\u001b[0m \u001b[0mcopy\u001b[0m\u001b[0;34m=\u001b[0m\u001b[0mself\u001b[0m\u001b[0;34m.\u001b[0m\u001b[0mcopy\u001b[0m\u001b[0;34m,\u001b[0m \u001b[0mdtype\u001b[0m\u001b[0;34m=\u001b[0m\u001b[0mFLOAT_DTYPES\u001b[0m\u001b[0;34m)\u001b[0m\u001b[0;34m\u001b[0m\u001b[0m\n\u001b[1;32m    368\u001b[0m \u001b[0;34m\u001b[0m\u001b[0m\n\u001b[0;32m--> 369\u001b[0;31m         \u001b[0mX\u001b[0m \u001b[0;34m*=\u001b[0m \u001b[0mself\u001b[0m\u001b[0;34m.\u001b[0m\u001b[0mscale_\u001b[0m\u001b[0;34m\u001b[0m\u001b[0m\n\u001b[0m\u001b[1;32m    370\u001b[0m         \u001b[0mX\u001b[0m \u001b[0;34m+=\u001b[0m \u001b[0mself\u001b[0m\u001b[0;34m.\u001b[0m\u001b[0mmin_\u001b[0m\u001b[0;34m\u001b[0m\u001b[0m\n\u001b[1;32m    371\u001b[0m         \u001b[0;32mreturn\u001b[0m \u001b[0mX\u001b[0m\u001b[0;34m\u001b[0m\u001b[0m\n",
      "\u001b[0;31mValueError\u001b[0m: operands could not be broadcast together with shapes (1,400) (1600,) (1,400) "
     ]
    }
   ],
   "source": [
    "# Scale data\n",
    "from sklearn.preprocessing import MinMaxScaler\n",
    "scaler = MinMaxScaler()\n",
    "scaler.fit([data_train])\n",
    "data_train = scaler.transform([data_train])\n",
    "data_test = scaler.transform([data_test])\n",
    "# Build X and y\n",
    "X_train = data_train[:, 1:]\n",
    "y_train = data_train[:, 0]\n",
    "X_test = data_test[:, 1:]\n",
    "y_test = data_test[:, 0]"
   ]
  },
  {
   "cell_type": "code",
   "execution_count": 179,
   "metadata": {},
   "outputs": [],
   "source": [
    "data = pd.read_csv('01_data/data_stocks.csv')"
   ]
  },
  {
   "cell_type": "code",
   "execution_count": 180,
   "metadata": {},
   "outputs": [
    {
     "data": {
      "text/html": [
       "<div>\n",
       "<style scoped>\n",
       "    .dataframe tbody tr th:only-of-type {\n",
       "        vertical-align: middle;\n",
       "    }\n",
       "\n",
       "    .dataframe tbody tr th {\n",
       "        vertical-align: top;\n",
       "    }\n",
       "\n",
       "    .dataframe thead th {\n",
       "        text-align: right;\n",
       "    }\n",
       "</style>\n",
       "<table border=\"1\" class=\"dataframe\">\n",
       "  <thead>\n",
       "    <tr style=\"text-align: right;\">\n",
       "      <th></th>\n",
       "      <th>SP500</th>\n",
       "      <th>NASDAQ.AAL</th>\n",
       "      <th>NASDAQ.AAPL</th>\n",
       "      <th>NASDAQ.ADBE</th>\n",
       "      <th>NASDAQ.ADI</th>\n",
       "      <th>NASDAQ.ADP</th>\n",
       "      <th>NASDAQ.ADSK</th>\n",
       "      <th>NASDAQ.AKAM</th>\n",
       "      <th>NASDAQ.ALXN</th>\n",
       "      <th>NASDAQ.AMAT</th>\n",
       "      <th>...</th>\n",
       "      <th>NYSE.WYN</th>\n",
       "      <th>NYSE.XEC</th>\n",
       "      <th>NYSE.XEL</th>\n",
       "      <th>NYSE.XL</th>\n",
       "      <th>NYSE.XOM</th>\n",
       "      <th>NYSE.XRX</th>\n",
       "      <th>NYSE.XYL</th>\n",
       "      <th>NYSE.YUM</th>\n",
       "      <th>NYSE.ZBH</th>\n",
       "      <th>NYSE.ZTS</th>\n",
       "    </tr>\n",
       "  </thead>\n",
       "  <tbody>\n",
       "    <tr>\n",
       "      <th>0</th>\n",
       "      <td>2363.6101</td>\n",
       "      <td>42.3300</td>\n",
       "      <td>143.6800</td>\n",
       "      <td>129.6300</td>\n",
       "      <td>82.040</td>\n",
       "      <td>102.2300</td>\n",
       "      <td>85.2200</td>\n",
       "      <td>59.760</td>\n",
       "      <td>121.52</td>\n",
       "      <td>38.99</td>\n",
       "      <td>...</td>\n",
       "      <td>84.370</td>\n",
       "      <td>119.035</td>\n",
       "      <td>44.40</td>\n",
       "      <td>39.88</td>\n",
       "      <td>82.03</td>\n",
       "      <td>7.36</td>\n",
       "      <td>50.22</td>\n",
       "      <td>63.86</td>\n",
       "      <td>122.000</td>\n",
       "      <td>53.350</td>\n",
       "    </tr>\n",
       "    <tr>\n",
       "      <th>1</th>\n",
       "      <td>2364.1001</td>\n",
       "      <td>42.3600</td>\n",
       "      <td>143.7000</td>\n",
       "      <td>130.3200</td>\n",
       "      <td>82.080</td>\n",
       "      <td>102.1400</td>\n",
       "      <td>85.6500</td>\n",
       "      <td>59.840</td>\n",
       "      <td>121.48</td>\n",
       "      <td>39.01</td>\n",
       "      <td>...</td>\n",
       "      <td>84.370</td>\n",
       "      <td>119.035</td>\n",
       "      <td>44.11</td>\n",
       "      <td>39.88</td>\n",
       "      <td>82.03</td>\n",
       "      <td>7.38</td>\n",
       "      <td>50.22</td>\n",
       "      <td>63.74</td>\n",
       "      <td>121.770</td>\n",
       "      <td>53.350</td>\n",
       "    </tr>\n",
       "    <tr>\n",
       "      <th>2</th>\n",
       "      <td>2362.6799</td>\n",
       "      <td>42.3100</td>\n",
       "      <td>143.6901</td>\n",
       "      <td>130.2250</td>\n",
       "      <td>82.030</td>\n",
       "      <td>102.2125</td>\n",
       "      <td>85.5100</td>\n",
       "      <td>59.795</td>\n",
       "      <td>121.93</td>\n",
       "      <td>38.91</td>\n",
       "      <td>...</td>\n",
       "      <td>84.585</td>\n",
       "      <td>119.260</td>\n",
       "      <td>44.09</td>\n",
       "      <td>39.98</td>\n",
       "      <td>82.02</td>\n",
       "      <td>7.36</td>\n",
       "      <td>50.12</td>\n",
       "      <td>63.75</td>\n",
       "      <td>121.700</td>\n",
       "      <td>53.365</td>\n",
       "    </tr>\n",
       "    <tr>\n",
       "      <th>3</th>\n",
       "      <td>2364.3101</td>\n",
       "      <td>42.3700</td>\n",
       "      <td>143.6400</td>\n",
       "      <td>130.0729</td>\n",
       "      <td>82.000</td>\n",
       "      <td>102.1400</td>\n",
       "      <td>85.4872</td>\n",
       "      <td>59.620</td>\n",
       "      <td>121.44</td>\n",
       "      <td>38.84</td>\n",
       "      <td>...</td>\n",
       "      <td>84.460</td>\n",
       "      <td>119.260</td>\n",
       "      <td>44.25</td>\n",
       "      <td>39.99</td>\n",
       "      <td>82.02</td>\n",
       "      <td>7.35</td>\n",
       "      <td>50.16</td>\n",
       "      <td>63.88</td>\n",
       "      <td>121.700</td>\n",
       "      <td>53.380</td>\n",
       "    </tr>\n",
       "    <tr>\n",
       "      <th>4</th>\n",
       "      <td>2364.8501</td>\n",
       "      <td>42.5378</td>\n",
       "      <td>143.6600</td>\n",
       "      <td>129.8800</td>\n",
       "      <td>82.035</td>\n",
       "      <td>102.0600</td>\n",
       "      <td>85.7001</td>\n",
       "      <td>59.620</td>\n",
       "      <td>121.60</td>\n",
       "      <td>38.93</td>\n",
       "      <td>...</td>\n",
       "      <td>84.470</td>\n",
       "      <td>119.610</td>\n",
       "      <td>44.11</td>\n",
       "      <td>39.96</td>\n",
       "      <td>82.03</td>\n",
       "      <td>7.36</td>\n",
       "      <td>50.20</td>\n",
       "      <td>63.91</td>\n",
       "      <td>121.695</td>\n",
       "      <td>53.240</td>\n",
       "    </tr>\n",
       "  </tbody>\n",
       "</table>\n",
       "<p>5 rows × 501 columns</p>\n",
       "</div>"
      ],
      "text/plain": [
       "       SP500  NASDAQ.AAL  NASDAQ.AAPL  NASDAQ.ADBE  NASDAQ.ADI  NASDAQ.ADP  \\\n",
       "0  2363.6101     42.3300     143.6800     129.6300      82.040    102.2300   \n",
       "1  2364.1001     42.3600     143.7000     130.3200      82.080    102.1400   \n",
       "2  2362.6799     42.3100     143.6901     130.2250      82.030    102.2125   \n",
       "3  2364.3101     42.3700     143.6400     130.0729      82.000    102.1400   \n",
       "4  2364.8501     42.5378     143.6600     129.8800      82.035    102.0600   \n",
       "\n",
       "   NASDAQ.ADSK  NASDAQ.AKAM  NASDAQ.ALXN  NASDAQ.AMAT    ...     NYSE.WYN  \\\n",
       "0      85.2200       59.760       121.52        38.99    ...       84.370   \n",
       "1      85.6500       59.840       121.48        39.01    ...       84.370   \n",
       "2      85.5100       59.795       121.93        38.91    ...       84.585   \n",
       "3      85.4872       59.620       121.44        38.84    ...       84.460   \n",
       "4      85.7001       59.620       121.60        38.93    ...       84.470   \n",
       "\n",
       "   NYSE.XEC  NYSE.XEL  NYSE.XL  NYSE.XOM  NYSE.XRX  NYSE.XYL  NYSE.YUM  \\\n",
       "0   119.035     44.40    39.88     82.03      7.36     50.22     63.86   \n",
       "1   119.035     44.11    39.88     82.03      7.38     50.22     63.74   \n",
       "2   119.260     44.09    39.98     82.02      7.36     50.12     63.75   \n",
       "3   119.260     44.25    39.99     82.02      7.35     50.16     63.88   \n",
       "4   119.610     44.11    39.96     82.03      7.36     50.20     63.91   \n",
       "\n",
       "   NYSE.ZBH  NYSE.ZTS  \n",
       "0   122.000    53.350  \n",
       "1   121.770    53.350  \n",
       "2   121.700    53.365  \n",
       "3   121.700    53.380  \n",
       "4   121.695    53.240  \n",
       "\n",
       "[5 rows x 501 columns]"
      ]
     },
     "execution_count": 180,
     "metadata": {},
     "output_type": "execute_result"
    }
   ],
   "source": [
    "data = data.drop(['DATE'], 1)\n",
    "data.head()"
   ]
  },
  {
   "cell_type": "code",
   "execution_count": 177,
   "metadata": {},
   "outputs": [
    {
     "data": {
      "text/html": [
       "<div>\n",
       "<style scoped>\n",
       "    .dataframe tbody tr th:only-of-type {\n",
       "        vertical-align: middle;\n",
       "    }\n",
       "\n",
       "    .dataframe tbody tr th {\n",
       "        vertical-align: top;\n",
       "    }\n",
       "\n",
       "    .dataframe thead th {\n",
       "        text-align: right;\n",
       "    }\n",
       "</style>\n",
       "<table border=\"1\" class=\"dataframe\">\n",
       "  <thead>\n",
       "    <tr style=\"text-align: right;\">\n",
       "      <th></th>\n",
       "      <th>close</th>\n",
       "      <th>high</th>\n",
       "      <th>low</th>\n",
       "      <th>open</th>\n",
       "      <th>volumefrom</th>\n",
       "      <th>volumeto</th>\n",
       "    </tr>\n",
       "  </thead>\n",
       "  <tbody>\n",
       "    <tr>\n",
       "      <th>0</th>\n",
       "      <td>304.20</td>\n",
       "      <td>304.79</td>\n",
       "      <td>303.63</td>\n",
       "      <td>303.87</td>\n",
       "      <td>30678.03</td>\n",
       "      <td>9333547.12</td>\n",
       "    </tr>\n",
       "    <tr>\n",
       "      <th>1</th>\n",
       "      <td>301.15</td>\n",
       "      <td>304.28</td>\n",
       "      <td>298.66</td>\n",
       "      <td>304.20</td>\n",
       "      <td>56902.71</td>\n",
       "      <td>17110961.07</td>\n",
       "    </tr>\n",
       "    <tr>\n",
       "      <th>2</th>\n",
       "      <td>291.76</td>\n",
       "      <td>301.15</td>\n",
       "      <td>291.76</td>\n",
       "      <td>301.15</td>\n",
       "      <td>85355.26</td>\n",
       "      <td>25141619.53</td>\n",
       "    </tr>\n",
       "    <tr>\n",
       "      <th>3</th>\n",
       "      <td>297.44</td>\n",
       "      <td>297.49</td>\n",
       "      <td>288.96</td>\n",
       "      <td>291.76</td>\n",
       "      <td>82481.87</td>\n",
       "      <td>24241162.58</td>\n",
       "    </tr>\n",
       "    <tr>\n",
       "      <th>4</th>\n",
       "      <td>293.98</td>\n",
       "      <td>297.62</td>\n",
       "      <td>293.34</td>\n",
       "      <td>297.44</td>\n",
       "      <td>40455.47</td>\n",
       "      <td>11934552.42</td>\n",
       "    </tr>\n",
       "  </tbody>\n",
       "</table>\n",
       "</div>"
      ],
      "text/plain": [
       "    close    high     low    open  volumefrom     volumeto\n",
       "0  304.20  304.79  303.63  303.87    30678.03   9333547.12\n",
       "1  301.15  304.28  298.66  304.20    56902.71  17110961.07\n",
       "2  291.76  301.15  291.76  301.15    85355.26  25141619.53\n",
       "3  297.44  297.49  288.96  291.76    82481.87  24241162.58\n",
       "4  293.98  297.62  293.34  297.44    40455.47  11934552.42"
      ]
     },
     "execution_count": 177,
     "metadata": {},
     "output_type": "execute_result"
    }
   ],
   "source": [
    "ETH_1h = ETH_1h.drop(['time'], 1)\n",
    "ETH_1h.head()"
   ]
  },
  {
   "cell_type": "code",
   "execution_count": 181,
   "metadata": {},
   "outputs": [],
   "source": [
    "# Dimensions of dataset\n",
    "n = ETH_1h.shape[0]\n",
    "p = ETH_1h.shape[1]\n",
    "\n",
    "# Make data a np.array\n",
    "ETH_1h = ETH_1h.values\n",
    "\n",
    "# Training and test data\n",
    "train_start = 0\n",
    "train_end = int(np.floor(0.8*n))\n",
    "test_start = train_end + 1\n",
    "test_end = n\n",
    "data_train = ETH_1h[np.arange(train_start, train_end), :]\n",
    "data_test = ETH_1h[np.arange(test_start, test_end), :]"
   ]
  },
  {
   "cell_type": "code",
   "execution_count": null,
   "metadata": {},
   "outputs": [],
   "source": []
  },
  {
   "cell_type": "code",
   "execution_count": 169,
   "metadata": {},
   "outputs": [],
   "source": [
    "# Dimensions of dataset\n",
    "n = data.shape[0]\n",
    "p = data.shape[1]\n",
    "\n",
    "# Make data a np.array\n",
    "data = data.values\n",
    "\n",
    "# Training and test data\n",
    "train_start = 0\n",
    "train_end = int(np.floor(0.8*n))\n",
    "test_start = train_end + 1\n",
    "test_end = n\n",
    "data_train = data[np.arange(train_start, train_end), :]\n",
    "data_test = data[np.arange(test_start, test_end), :]"
   ]
  },
  {
   "cell_type": "code",
   "execution_count": 186,
   "metadata": {},
   "outputs": [
    {
     "data": {
      "image/png": "[encoded data removed]",
      "text/plain": [
       "<matplotlib.figure.Figure at 0x1353f5860>"
      ]
     },
     "metadata": {},
     "output_type": "display_data"
    },
    {
     "name": "stdout",
     "output_type": "stream",
     "text": [
      "MSE Train:  0.107969955\n",
      "MSE Test:  0.100862406\n"
     ]
    },
    {
     "data": {
      "image/png": "[encoded data removed]",
      "text/plain": [
       "<matplotlib.figure.Figure at 0x111f6d6d8>"
      ]
     },
     "metadata": {},
     "output_type": "display_data"
    },
    {
     "name": "stdout",
     "output_type": "stream",
     "text": [
      "MSE Train:  0.011014099\n",
      "MSE Test:  0.023442306\n"
     ]
    },
    {
     "data": {
      "image/png": "[encoded data removed]",
      "text/plain": [
       "<matplotlib.figure.Figure at 0x136586ac8>"
      ]
     },
     "metadata": {},
     "output_type": "display_data"
    },
    {
     "name": "stdout",
     "output_type": "stream",
     "text": [
      "MSE Train:  0.0028845936\n",
      "MSE Test:  0.0013981569\n"
     ]
    },
    {
     "data": {
      "image/png": "[encoded data removed]",
      "text/plain": [
       "<matplotlib.figure.Figure at 0x12a4e17b8>"
      ]
     },
     "metadata": {},
     "output_type": "display_data"
    },
    {
     "name": "stdout",
     "output_type": "stream",
     "text": [
      "MSE Train:  0.0031172452\n",
      "MSE Test:  0.008736099\n"
     ]
    },
    {
     "data": {
      "image/png": "[encoded data removed]",
      "text/plain": [
       "<matplotlib.figure.Figure at 0x13612d588>"
      ]
     },
     "metadata": {},
     "output_type": "display_data"
    },
    {
     "name": "stdout",
     "output_type": "stream",
     "text": [
      "MSE Train:  0.0021167023\n",
      "MSE Test:  0.0016595599\n"
     ]
    },
    {
     "data": {
      "image/png": "[encoded data removed]",
      "text/plain": [
       "<matplotlib.figure.Figure at 0x1362f1278>"
      ]
     },
     "metadata": {},
     "output_type": "display_data"
    },
    {
     "name": "stdout",
     "output_type": "stream",
     "text": [
      "MSE Train:  0.0006835477\n",
      "MSE Test:  0.0022483424\n"
     ]
    },
    {
     "data": {
      "image/png": "[encoded data removed]",
      "text/plain": [
       "<matplotlib.figure.Figure at 0x132e51908>"
      ]
     },
     "metadata": {},
     "output_type": "display_data"
    },
    {
     "name": "stdout",
     "output_type": "stream",
     "text": [
      "MSE Train:  0.00043884173\n",
      "MSE Test:  0.0009851942\n"
     ]
    },
    {
     "data": {
      "image/png": "[encoded data removed]",
      "text/plain": [
       "<matplotlib.figure.Figure at 0x13609b400>"
      ]
     },
     "metadata": {},
     "output_type": "display_data"
    },
    {
     "name": "stdout",
     "output_type": "stream",
     "text": [
      "MSE Train:  0.00044701944\n",
      "MSE Test:  0.001177247\n"
     ]
    },
    {
     "data": {
      "image/png": "[encoded data removed]",
      "text/plain": [
       "<matplotlib.figure.Figure at 0x111f79550>"
      ]
     },
     "metadata": {},
     "output_type": "display_data"
    },
    {
     "name": "stdout",
     "output_type": "stream",
     "text": [
      "MSE Train:  0.00036544327\n",
      "MSE Test:  0.00071742537\n"
     ]
    },
    {
     "data": {
      "image/png": "[encoded data removed]",
      "text/plain": [
       "<matplotlib.figure.Figure at 0x12a4fea58>"
      ]
     },
     "metadata": {},
     "output_type": "display_data"
    },
    {
     "name": "stdout",
     "output_type": "stream",
     "text": [
      "MSE Train:  0.0003014263\n",
      "MSE Test:  0.000944579\n"
     ]
    },
    {
     "data": {
      "image/png": "[encoded data removed]",
      "text/plain": [
       "<matplotlib.figure.Figure at 0x110a85cc0>"
      ]
     },
     "metadata": {},
     "output_type": "display_data"
    }
   ],
   "source": [
    "# Scale data\n",
    "scaler = MinMaxScaler(feature_range=(-1, 1))\n",
    "scaler.fit(data_train)\n",
    "data_train = scaler.transform(data_train)\n",
    "data_test = scaler.transform(data_test)\n",
    "\n",
    "# Build X and y\n",
    "X_train = data_train[:, 1:]\n",
    "y_train = data_train[:, 0]\n",
    "X_test = data_test[:, 1:]\n",
    "y_test = data_test[:, 0]\n",
    "\n",
    "# Number of stocks in training data\n",
    "n_stocks = X_train.shape[1]\n",
    "\n",
    "# Neurons\n",
    "n_neurons_1 = 1024\n",
    "n_neurons_2 = 512\n",
    "n_neurons_3 = 256\n",
    "n_neurons_4 = 128\n",
    "\n",
    "# Session\n",
    "net = tf.InteractiveSession()\n",
    "\n",
    "# Placeholder\n",
    "X = tf.placeholder(dtype=tf.float32, shape=[None, n_stocks])\n",
    "Y = tf.placeholder(dtype=tf.float32, shape=[None])\n",
    "\n",
    "# Initializers\n",
    "sigma = 1\n",
    "weight_initializer = tf.variance_scaling_initializer(mode=\"fan_avg\", distribution=\"uniform\", scale=sigma)\n",
    "bias_initializer = tf.zeros_initializer()\n",
    "\n",
    "# Hidden weights\n",
    "W_hidden_1 = tf.Variable(weight_initializer([n_stocks, n_neurons_1]))\n",
    "bias_hidden_1 = tf.Variable(bias_initializer([n_neurons_1]))\n",
    "W_hidden_2 = tf.Variable(weight_initializer([n_neurons_1, n_neurons_2]))\n",
    "bias_hidden_2 = tf.Variable(bias_initializer([n_neurons_2]))\n",
    "W_hidden_3 = tf.Variable(weight_initializer([n_neurons_2, n_neurons_3]))\n",
    "bias_hidden_3 = tf.Variable(bias_initializer([n_neurons_3]))\n",
    "W_hidden_4 = tf.Variable(weight_initializer([n_neurons_3, n_neurons_4]))\n",
    "bias_hidden_4 = tf.Variable(bias_initializer([n_neurons_4]))\n",
    "\n",
    "# Output weights\n",
    "W_out = tf.Variable(weight_initializer([n_neurons_4, 1]))\n",
    "bias_out = tf.Variable(bias_initializer([1]))\n",
    "\n",
    "# Hidden layer\n",
    "hidden_1 = tf.nn.relu(tf.add(tf.matmul(X, W_hidden_1), bias_hidden_1))\n",
    "hidden_2 = tf.nn.relu(tf.add(tf.matmul(hidden_1, W_hidden_2), bias_hidden_2))\n",
    "hidden_3 = tf.nn.relu(tf.add(tf.matmul(hidden_2, W_hidden_3), bias_hidden_3))\n",
    "hidden_4 = tf.nn.relu(tf.add(tf.matmul(hidden_3, W_hidden_4), bias_hidden_4))\n",
    "\n",
    "# Output layer (transpose!)\n",
    "out = tf.transpose(tf.add(tf.matmul(hidden_4, W_out), bias_out))\n",
    "\n",
    "# Cost function\n",
    "mse = tf.reduce_mean(tf.squared_difference(out, Y))\n",
    "\n",
    "# Optimizer\n",
    "opt = tf.train.AdamOptimizer().minimize(mse)\n",
    "\n",
    "# Init\n",
    "net.run(tf.global_variables_initializer())\n",
    "\n",
    "# Setup plot\n",
    "plt.ion()\n",
    "fig = plt.figure()\n",
    "ax1 = fig.add_subplot(111)\n",
    "line1, = ax1.plot(y_test)\n",
    "line2, = ax1.plot(y_test * 0.5)\n",
    "plt.show()\n",
    "\n",
    "# Fit neural net\n",
    "batch_size = 256\n",
    "mse_train = []\n",
    "mse_test = []\n",
    "\n",
    "# Run\n",
    "epochs = 10\n",
    "for e in range(epochs):\n",
    "\n",
    "    # Shuffle training data\n",
    "    shuffle_indices = np.random.permutation(np.arange(len(y_train)))\n",
    "    X_train = X_train[shuffle_indices]\n",
    "    y_train = y_train[shuffle_indices]\n",
    "\n",
    "    # Minibatch training\n",
    "    for i in range(0, len(y_train) // batch_size):\n",
    "        start = i * batch_size\n",
    "        batch_x = X_train[start:start + batch_size]\n",
    "        batch_y = y_train[start:start + batch_size]\n",
    "        # Run optimizer with batch\n",
    "        net.run(opt, feed_dict={X: batch_x, Y: batch_y})\n",
    "\n",
    "        # Show progress\n",
    "        if np.mod(i, 50) == 0:\n",
    "            # MSE train and test\n",
    "            mse_train.append(net.run(mse, feed_dict={X: X_train, Y: y_train}))\n",
    "            mse_test.append(net.run(mse, feed_dict={X: X_test, Y: y_test}))\n",
    "            print('MSE Train: ', mse_train[-1])\n",
    "            print('MSE Test: ', mse_test[-1])\n",
    "            # Prediction\n",
    "            pred = net.run(out, feed_dict={X: X_test})\n",
    "            line2.set_ydata(pred)\n",
    "            plt.title('Epoch ' + str(e) + ', Batch ' + str(i))\n",
    "            plt.pause(0.01)"
   ]
  },
  {
   "cell_type": "code",
   "execution_count": null,
   "metadata": {},
   "outputs": [],
   "source": []
  },
  {
   "cell_type": "code",
   "execution_count": null,
   "metadata": {},
   "outputs": [],
   "source": []
  },
  {
   "cell_type": "code",
   "execution_count": null,
   "metadata": {},
   "outputs": [],
   "source": []
  },
  {
   "cell_type": "code",
   "execution_count": null,
   "metadata": {},
   "outputs": [],
   "source": []
  }
 ],
 "metadata": {
  "kernelspec": {
   "display_name": "Python 3",
   "language": "python",
   "name": "python3"
  },
  "language_info": {
   "codemirror_mode": {
    "name": "ipython",
    "version": 3
   },
   "file_extension": ".py",
   "mimetype": "text/x-python",
   "name": "python",
   "nbconvert_exporter": "python",
   "pygments_lexer": "ipython3",
   "version": "3.6.2"
  }
 },
 "nbformat": 4,
 "nbformat_minor": 2
}
